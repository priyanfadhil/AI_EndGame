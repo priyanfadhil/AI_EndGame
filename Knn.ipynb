{
  "nbformat": 4,
  "nbformat_minor": 0,
  "metadata": {
    "colab": {
      "name": "Tupro_AI_3.ipynb",
      "provenance": [],
      "collapsed_sections": []
    },
    "kernelspec": {
      "name": "python3",
      "display_name": "Python 3"
    },
    "language_info": {
      "name": "python"
    }
  },
  "cells": [
    {
      "cell_type": "markdown",
      "metadata": {
        "id": "C1H6epoeJDWR"
      },
      "source": [
        "#**Tugas Pemrograman 3 Pengantar AI**\n",
        "\n",
        "**Kelompok : 6**\n",
        "\n",
        "**Kelas : IF-43-09**\n",
        "\n",
        "**Nama Anggota Kelompok :**\n",
        "1. Claudia Mei Serin Sitio / 1301190424\n",
        "2. Priyan Fadhil Supriyadi / 1301190442\n",
        "3. Vena Erla Candrika / 1301194040"
      ]
    },
    {
      "cell_type": "code",
      "metadata": {
        "id": "tiV7hxBEHBtg"
      },
      "source": [
        "import numpy as np\n",
        "import pandas as pd\n",
        "import matplotlib.pyplot as plt\n",
        "import seaborn as sns\n",
        "import math"
      ],
      "execution_count": null,
      "outputs": []
    },
    {
      "cell_type": "code",
      "metadata": {
        "id": "ygANS10GvkX3",
        "colab": {
          "base_uri": "https://localhost:8080/",
          "height": 576
        },
        "outputId": "5901cd6e-25a9-4ea8-f304-10624ab5c432"
      },
      "source": [
        "data = pd.read_excel('https://github.com/priyanfadhil/AI_EndGame/blob/main/mobil.xls?raw=true')\n",
        "data"
      ],
      "execution_count": null,
      "outputs": [
        {
          "output_type": "execute_result",
          "data": {
            "text/html": [
              "<div>\n",
              "<style scoped>\n",
              "    .dataframe tbody tr th:only-of-type {\n",
              "        vertical-align: middle;\n",
              "    }\n",
              "\n",
              "    .dataframe tbody tr th {\n",
              "        vertical-align: top;\n",
              "    }\n",
              "\n",
              "    .dataframe thead th {\n",
              "        text-align: right;\n",
              "    }\n",
              "</style>\n",
              "<table border=\"1\" class=\"dataframe\">\n",
              "  <thead>\n",
              "    <tr style=\"text-align: right;\">\n",
              "      <th></th>\n",
              "      <th>Nama Mobil</th>\n",
              "      <th>Ukuran</th>\n",
              "      <th>Kenyamanan</th>\n",
              "      <th>Irit</th>\n",
              "      <th>Kecepatan</th>\n",
              "      <th>Harga (Ratus Juta)</th>\n",
              "    </tr>\n",
              "  </thead>\n",
              "  <tbody>\n",
              "    <tr>\n",
              "      <th>0</th>\n",
              "      <td>Toyota Agya</td>\n",
              "      <td>4</td>\n",
              "      <td>4</td>\n",
              "      <td>9</td>\n",
              "      <td>6</td>\n",
              "      <td>1.00</td>\n",
              "    </tr>\n",
              "    <tr>\n",
              "      <th>1</th>\n",
              "      <td>Daihatsu Alya</td>\n",
              "      <td>4</td>\n",
              "      <td>3</td>\n",
              "      <td>9</td>\n",
              "      <td>6</td>\n",
              "      <td>1.10</td>\n",
              "    </tr>\n",
              "    <tr>\n",
              "      <th>2</th>\n",
              "      <td>Toyota Avanza</td>\n",
              "      <td>6</td>\n",
              "      <td>5</td>\n",
              "      <td>6</td>\n",
              "      <td>6</td>\n",
              "      <td>2.00</td>\n",
              "    </tr>\n",
              "    <tr>\n",
              "      <th>3</th>\n",
              "      <td>Daihatsu Xenia</td>\n",
              "      <td>6</td>\n",
              "      <td>4</td>\n",
              "      <td>6</td>\n",
              "      <td>6</td>\n",
              "      <td>1.75</td>\n",
              "    </tr>\n",
              "    <tr>\n",
              "      <th>4</th>\n",
              "      <td>Xpander</td>\n",
              "      <td>7</td>\n",
              "      <td>7</td>\n",
              "      <td>6</td>\n",
              "      <td>7</td>\n",
              "      <td>2.25</td>\n",
              "    </tr>\n",
              "    <tr>\n",
              "      <th>5</th>\n",
              "      <td>Livina</td>\n",
              "      <td>7</td>\n",
              "      <td>7</td>\n",
              "      <td>6</td>\n",
              "      <td>7</td>\n",
              "      <td>2.10</td>\n",
              "    </tr>\n",
              "    <tr>\n",
              "      <th>6</th>\n",
              "      <td>Karimun</td>\n",
              "      <td>3</td>\n",
              "      <td>4</td>\n",
              "      <td>10</td>\n",
              "      <td>5</td>\n",
              "      <td>1.20</td>\n",
              "    </tr>\n",
              "    <tr>\n",
              "      <th>7</th>\n",
              "      <td>Toyota Innova</td>\n",
              "      <td>8</td>\n",
              "      <td>8</td>\n",
              "      <td>5</td>\n",
              "      <td>7</td>\n",
              "      <td>4.00</td>\n",
              "    </tr>\n",
              "    <tr>\n",
              "      <th>8</th>\n",
              "      <td>Alphard</td>\n",
              "      <td>9</td>\n",
              "      <td>10</td>\n",
              "      <td>4</td>\n",
              "      <td>8</td>\n",
              "      <td>10.00</td>\n",
              "    </tr>\n",
              "    <tr>\n",
              "      <th>9</th>\n",
              "      <td>Toyota Vios</td>\n",
              "      <td>5</td>\n",
              "      <td>7</td>\n",
              "      <td>9</td>\n",
              "      <td>8</td>\n",
              "      <td>2.50</td>\n",
              "    </tr>\n",
              "    <tr>\n",
              "      <th>10</th>\n",
              "      <td>Honda City</td>\n",
              "      <td>5</td>\n",
              "      <td>8</td>\n",
              "      <td>7</td>\n",
              "      <td>8</td>\n",
              "      <td>2.70</td>\n",
              "    </tr>\n",
              "    <tr>\n",
              "      <th>11</th>\n",
              "      <td>Toyota Hiace</td>\n",
              "      <td>10</td>\n",
              "      <td>5</td>\n",
              "      <td>8</td>\n",
              "      <td>6</td>\n",
              "      <td>5.00</td>\n",
              "    </tr>\n",
              "    <tr>\n",
              "      <th>12</th>\n",
              "      <td>Toyota Fortuner</td>\n",
              "      <td>9</td>\n",
              "      <td>8</td>\n",
              "      <td>5</td>\n",
              "      <td>8</td>\n",
              "      <td>5.00</td>\n",
              "    </tr>\n",
              "    <tr>\n",
              "      <th>13</th>\n",
              "      <td>Toyota Foxy</td>\n",
              "      <td>9</td>\n",
              "      <td>9</td>\n",
              "      <td>5</td>\n",
              "      <td>7</td>\n",
              "      <td>5.50</td>\n",
              "    </tr>\n",
              "    <tr>\n",
              "      <th>14</th>\n",
              "      <td>Toyota Corolla Altis</td>\n",
              "      <td>5</td>\n",
              "      <td>9</td>\n",
              "      <td>7</td>\n",
              "      <td>9</td>\n",
              "      <td>6.00</td>\n",
              "    </tr>\n",
              "    <tr>\n",
              "      <th>15</th>\n",
              "      <td>Suzuki Ertiga</td>\n",
              "      <td>7</td>\n",
              "      <td>7</td>\n",
              "      <td>7</td>\n",
              "      <td>7</td>\n",
              "      <td>2.30</td>\n",
              "    </tr>\n",
              "    <tr>\n",
              "      <th>16</th>\n",
              "      <td>Suzuki Carry</td>\n",
              "      <td>7</td>\n",
              "      <td>3</td>\n",
              "      <td>9</td>\n",
              "      <td>5</td>\n",
              "      <td>0.80</td>\n",
              "    </tr>\n",
              "  </tbody>\n",
              "</table>\n",
              "</div>"
            ],
            "text/plain": [
              "              Nama Mobil  Ukuran  ...  Kecepatan  Harga (Ratus Juta)\n",
              "0            Toyota Agya       4  ...          6                1.00\n",
              "1          Daihatsu Alya       4  ...          6                1.10\n",
              "2          Toyota Avanza       6  ...          6                2.00\n",
              "3         Daihatsu Xenia       6  ...          6                1.75\n",
              "4                Xpander       7  ...          7                2.25\n",
              "5                 Livina       7  ...          7                2.10\n",
              "6                Karimun       3  ...          5                1.20\n",
              "7          Toyota Innova       8  ...          7                4.00\n",
              "8                Alphard       9  ...          8               10.00\n",
              "9            Toyota Vios       5  ...          8                2.50\n",
              "10            Honda City       5  ...          8                2.70\n",
              "11          Toyota Hiace      10  ...          6                5.00\n",
              "12       Toyota Fortuner       9  ...          8                5.00\n",
              "13           Toyota Foxy       9  ...          7                5.50\n",
              "14  Toyota Corolla Altis       5  ...          9                6.00\n",
              "15         Suzuki Ertiga       7  ...          7                2.30\n",
              "16          Suzuki Carry       7  ...          5                0.80\n",
              "\n",
              "[17 rows x 6 columns]"
            ]
          },
          "metadata": {},
          "execution_count": 2
        }
      ]
    },
    {
      "cell_type": "markdown",
      "metadata": {
        "id": "Yj9-Yk3qU7Oj"
      },
      "source": [
        "## **Pre-processing Data**\n",
        "Menghapus kolom yang tidak dibutuhkan untuk memproses *data*"
      ]
    },
    {
      "cell_type": "code",
      "metadata": {
        "colab": {
          "base_uri": "https://localhost:8080/",
          "height": 206
        },
        "id": "vI_kv7yjHjgo",
        "outputId": "00960859-5b6e-40f1-c9a5-0461baeb005d"
      },
      "source": [
        "data_filtered = data.drop('Nama Mobil', axis=1)\n",
        "data_filtered.head()"
      ],
      "execution_count": null,
      "outputs": [
        {
          "output_type": "execute_result",
          "data": {
            "text/html": [
              "<div>\n",
              "<style scoped>\n",
              "    .dataframe tbody tr th:only-of-type {\n",
              "        vertical-align: middle;\n",
              "    }\n",
              "\n",
              "    .dataframe tbody tr th {\n",
              "        vertical-align: top;\n",
              "    }\n",
              "\n",
              "    .dataframe thead th {\n",
              "        text-align: right;\n",
              "    }\n",
              "</style>\n",
              "<table border=\"1\" class=\"dataframe\">\n",
              "  <thead>\n",
              "    <tr style=\"text-align: right;\">\n",
              "      <th></th>\n",
              "      <th>Ukuran</th>\n",
              "      <th>Kenyamanan</th>\n",
              "      <th>Irit</th>\n",
              "      <th>Kecepatan</th>\n",
              "      <th>Harga (Ratus Juta)</th>\n",
              "    </tr>\n",
              "  </thead>\n",
              "  <tbody>\n",
              "    <tr>\n",
              "      <th>0</th>\n",
              "      <td>4</td>\n",
              "      <td>4</td>\n",
              "      <td>9</td>\n",
              "      <td>6</td>\n",
              "      <td>1.00</td>\n",
              "    </tr>\n",
              "    <tr>\n",
              "      <th>1</th>\n",
              "      <td>4</td>\n",
              "      <td>3</td>\n",
              "      <td>9</td>\n",
              "      <td>6</td>\n",
              "      <td>1.10</td>\n",
              "    </tr>\n",
              "    <tr>\n",
              "      <th>2</th>\n",
              "      <td>6</td>\n",
              "      <td>5</td>\n",
              "      <td>6</td>\n",
              "      <td>6</td>\n",
              "      <td>2.00</td>\n",
              "    </tr>\n",
              "    <tr>\n",
              "      <th>3</th>\n",
              "      <td>6</td>\n",
              "      <td>4</td>\n",
              "      <td>6</td>\n",
              "      <td>6</td>\n",
              "      <td>1.75</td>\n",
              "    </tr>\n",
              "    <tr>\n",
              "      <th>4</th>\n",
              "      <td>7</td>\n",
              "      <td>7</td>\n",
              "      <td>6</td>\n",
              "      <td>7</td>\n",
              "      <td>2.25</td>\n",
              "    </tr>\n",
              "  </tbody>\n",
              "</table>\n",
              "</div>"
            ],
            "text/plain": [
              "   Ukuran  Kenyamanan  Irit  Kecepatan  Harga (Ratus Juta)\n",
              "0       4           4     9          6                1.00\n",
              "1       4           3     9          6                1.10\n",
              "2       6           5     6          6                2.00\n",
              "3       6           4     6          6                1.75\n",
              "4       7           7     6          7                2.25"
            ]
          },
          "metadata": {
            "tags": []
          },
          "execution_count": 27
        }
      ]
    },
    {
      "cell_type": "markdown",
      "metadata": {
        "id": "NRHwzM6PUve8"
      },
      "source": [
        "Features Selection"
      ]
    },
    {
      "cell_type": "code",
      "metadata": {
        "colab": {
          "base_uri": "https://localhost:8080/"
        },
        "id": "62KhYr0wQGto",
        "outputId": "ead679ce-2303-47a8-aa19-d3e75bced900"
      },
      "source": [
        "features = data_filtered.copy().iloc[:, :8].values\n",
        "features"
      ],
      "execution_count": null,
      "outputs": [
        {
          "output_type": "execute_result",
          "data": {
            "text/plain": [
              "array([[ 4.  ,  4.  ,  9.  ,  6.  ,  1.  ],\n",
              "       [ 4.  ,  3.  ,  9.  ,  6.  ,  1.1 ],\n",
              "       [ 6.  ,  5.  ,  6.  ,  6.  ,  2.  ],\n",
              "       [ 6.  ,  4.  ,  6.  ,  6.  ,  1.75],\n",
              "       [ 7.  ,  7.  ,  6.  ,  7.  ,  2.25],\n",
              "       [ 7.  ,  7.  ,  6.  ,  7.  ,  2.1 ],\n",
              "       [ 3.  ,  4.  , 10.  ,  5.  ,  1.2 ],\n",
              "       [ 8.  ,  8.  ,  5.  ,  7.  ,  4.  ],\n",
              "       [ 9.  , 10.  ,  4.  ,  8.  , 10.  ],\n",
              "       [ 5.  ,  7.  ,  9.  ,  8.  ,  2.5 ],\n",
              "       [ 5.  ,  8.  ,  7.  ,  8.  ,  2.7 ],\n",
              "       [10.  ,  5.  ,  8.  ,  6.  ,  5.  ],\n",
              "       [ 9.  ,  8.  ,  5.  ,  8.  ,  5.  ],\n",
              "       [ 9.  ,  9.  ,  5.  ,  7.  ,  5.5 ],\n",
              "       [ 5.  ,  9.  ,  7.  ,  9.  ,  6.  ],\n",
              "       [ 7.  ,  7.  ,  7.  ,  7.  ,  2.3 ],\n",
              "       [ 7.  ,  3.  ,  9.  ,  5.  ,  0.8 ]])"
            ]
          },
          "metadata": {
            "tags": []
          },
          "execution_count": 28
        }
      ]
    },
    {
      "cell_type": "markdown",
      "metadata": {
        "id": "PKb-_HeJUsiC"
      },
      "source": [
        "Data Normalization (Min Max Normalization)"
      ]
    },
    {
      "cell_type": "code",
      "metadata": {
        "id": "zcmaDrEjRhNk"
      },
      "source": [
        "def min_max_scaler():\n",
        "    for row in range(len(features)):\n",
        "        for col in range(len(features[0])):\n",
        "            features[row][col] = (features[row][col] - (data_filtered[data_filtered.columns[col]]).min())/((data_filtered[data_filtered.columns[col]]).max() - (data_filtered[data_filtered.columns[col]]).min())\n",
        "            \n",
        "    return features"
      ],
      "execution_count": null,
      "outputs": []
    },
    {
      "cell_type": "code",
      "metadata": {
        "colab": {
          "base_uri": "https://localhost:8080/",
          "height": 582
        },
        "id": "-b0JUV7oRj8Y",
        "outputId": "dcf95335-b5e1-4e5c-f6ba-74cda0cd655f"
      },
      "source": [
        "data_norm = min_max_scaler()\n",
        "data_norm = pd.DataFrame(data_norm)\n",
        "data_norm.columns=[data_filtered.columns[:5]]\n",
        "data_norm"
      ],
      "execution_count": null,
      "outputs": [
        {
          "output_type": "execute_result",
          "data": {
            "text/html": [
              "<div>\n",
              "<style scoped>\n",
              "    .dataframe tbody tr th:only-of-type {\n",
              "        vertical-align: middle;\n",
              "    }\n",
              "\n",
              "    .dataframe tbody tr th {\n",
              "        vertical-align: top;\n",
              "    }\n",
              "\n",
              "    .dataframe thead tr th {\n",
              "        text-align: left;\n",
              "    }\n",
              "</style>\n",
              "<table border=\"1\" class=\"dataframe\">\n",
              "  <thead>\n",
              "    <tr>\n",
              "      <th></th>\n",
              "      <th>Ukuran</th>\n",
              "      <th>Kenyamanan</th>\n",
              "      <th>Irit</th>\n",
              "      <th>Kecepatan</th>\n",
              "      <th>Harga (Ratus Juta)</th>\n",
              "    </tr>\n",
              "  </thead>\n",
              "  <tbody>\n",
              "    <tr>\n",
              "      <th>0</th>\n",
              "      <td>0.142857</td>\n",
              "      <td>0.142857</td>\n",
              "      <td>0.833333</td>\n",
              "      <td>0.25</td>\n",
              "      <td>0.021739</td>\n",
              "    </tr>\n",
              "    <tr>\n",
              "      <th>1</th>\n",
              "      <td>0.142857</td>\n",
              "      <td>0.000000</td>\n",
              "      <td>0.833333</td>\n",
              "      <td>0.25</td>\n",
              "      <td>0.032609</td>\n",
              "    </tr>\n",
              "    <tr>\n",
              "      <th>2</th>\n",
              "      <td>0.428571</td>\n",
              "      <td>0.285714</td>\n",
              "      <td>0.333333</td>\n",
              "      <td>0.25</td>\n",
              "      <td>0.130435</td>\n",
              "    </tr>\n",
              "    <tr>\n",
              "      <th>3</th>\n",
              "      <td>0.428571</td>\n",
              "      <td>0.142857</td>\n",
              "      <td>0.333333</td>\n",
              "      <td>0.25</td>\n",
              "      <td>0.103261</td>\n",
              "    </tr>\n",
              "    <tr>\n",
              "      <th>4</th>\n",
              "      <td>0.571429</td>\n",
              "      <td>0.571429</td>\n",
              "      <td>0.333333</td>\n",
              "      <td>0.50</td>\n",
              "      <td>0.157609</td>\n",
              "    </tr>\n",
              "    <tr>\n",
              "      <th>5</th>\n",
              "      <td>0.571429</td>\n",
              "      <td>0.571429</td>\n",
              "      <td>0.333333</td>\n",
              "      <td>0.50</td>\n",
              "      <td>0.141304</td>\n",
              "    </tr>\n",
              "    <tr>\n",
              "      <th>6</th>\n",
              "      <td>0.000000</td>\n",
              "      <td>0.142857</td>\n",
              "      <td>1.000000</td>\n",
              "      <td>0.00</td>\n",
              "      <td>0.043478</td>\n",
              "    </tr>\n",
              "    <tr>\n",
              "      <th>7</th>\n",
              "      <td>0.714286</td>\n",
              "      <td>0.714286</td>\n",
              "      <td>0.166667</td>\n",
              "      <td>0.50</td>\n",
              "      <td>0.347826</td>\n",
              "    </tr>\n",
              "    <tr>\n",
              "      <th>8</th>\n",
              "      <td>0.857143</td>\n",
              "      <td>1.000000</td>\n",
              "      <td>0.000000</td>\n",
              "      <td>0.75</td>\n",
              "      <td>1.000000</td>\n",
              "    </tr>\n",
              "    <tr>\n",
              "      <th>9</th>\n",
              "      <td>0.285714</td>\n",
              "      <td>0.571429</td>\n",
              "      <td>0.833333</td>\n",
              "      <td>0.75</td>\n",
              "      <td>0.184783</td>\n",
              "    </tr>\n",
              "    <tr>\n",
              "      <th>10</th>\n",
              "      <td>0.285714</td>\n",
              "      <td>0.714286</td>\n",
              "      <td>0.500000</td>\n",
              "      <td>0.75</td>\n",
              "      <td>0.206522</td>\n",
              "    </tr>\n",
              "    <tr>\n",
              "      <th>11</th>\n",
              "      <td>1.000000</td>\n",
              "      <td>0.285714</td>\n",
              "      <td>0.666667</td>\n",
              "      <td>0.25</td>\n",
              "      <td>0.456522</td>\n",
              "    </tr>\n",
              "    <tr>\n",
              "      <th>12</th>\n",
              "      <td>0.857143</td>\n",
              "      <td>0.714286</td>\n",
              "      <td>0.166667</td>\n",
              "      <td>0.75</td>\n",
              "      <td>0.456522</td>\n",
              "    </tr>\n",
              "    <tr>\n",
              "      <th>13</th>\n",
              "      <td>0.857143</td>\n",
              "      <td>0.857143</td>\n",
              "      <td>0.166667</td>\n",
              "      <td>0.50</td>\n",
              "      <td>0.510870</td>\n",
              "    </tr>\n",
              "    <tr>\n",
              "      <th>14</th>\n",
              "      <td>0.285714</td>\n",
              "      <td>0.857143</td>\n",
              "      <td>0.500000</td>\n",
              "      <td>1.00</td>\n",
              "      <td>0.565217</td>\n",
              "    </tr>\n",
              "    <tr>\n",
              "      <th>15</th>\n",
              "      <td>0.571429</td>\n",
              "      <td>0.571429</td>\n",
              "      <td>0.500000</td>\n",
              "      <td>0.50</td>\n",
              "      <td>0.163043</td>\n",
              "    </tr>\n",
              "    <tr>\n",
              "      <th>16</th>\n",
              "      <td>0.571429</td>\n",
              "      <td>0.000000</td>\n",
              "      <td>0.833333</td>\n",
              "      <td>0.00</td>\n",
              "      <td>0.000000</td>\n",
              "    </tr>\n",
              "  </tbody>\n",
              "</table>\n",
              "</div>"
            ],
            "text/plain": [
              "      Ukuran Kenyamanan      Irit Kecepatan Harga (Ratus Juta)\n",
              "0   0.142857   0.142857  0.833333      0.25           0.021739\n",
              "1   0.142857   0.000000  0.833333      0.25           0.032609\n",
              "2   0.428571   0.285714  0.333333      0.25           0.130435\n",
              "3   0.428571   0.142857  0.333333      0.25           0.103261\n",
              "4   0.571429   0.571429  0.333333      0.50           0.157609\n",
              "5   0.571429   0.571429  0.333333      0.50           0.141304\n",
              "6   0.000000   0.142857  1.000000      0.00           0.043478\n",
              "7   0.714286   0.714286  0.166667      0.50           0.347826\n",
              "8   0.857143   1.000000  0.000000      0.75           1.000000\n",
              "9   0.285714   0.571429  0.833333      0.75           0.184783\n",
              "10  0.285714   0.714286  0.500000      0.75           0.206522\n",
              "11  1.000000   0.285714  0.666667      0.25           0.456522\n",
              "12  0.857143   0.714286  0.166667      0.75           0.456522\n",
              "13  0.857143   0.857143  0.166667      0.50           0.510870\n",
              "14  0.285714   0.857143  0.500000      1.00           0.565217\n",
              "15  0.571429   0.571429  0.500000      0.50           0.163043\n",
              "16  0.571429   0.000000  0.833333      0.00           0.000000"
            ]
          },
          "metadata": {
            "tags": []
          },
          "execution_count": 30
        }
      ]
    },
    {
      "cell_type": "code",
      "metadata": {
        "colab": {
          "base_uri": "https://localhost:8080/"
        },
        "id": "iAbXlO4-1iiS",
        "outputId": "417b3d97-91aa-4630-8833-5df31ce8186d"
      },
      "source": [
        "data_norm.iloc[0].tolist()"
      ],
      "execution_count": null,
      "outputs": [
        {
          "output_type": "execute_result",
          "data": {
            "text/plain": [
              "[0.14285714285714285,\n",
              " 0.14285714285714285,\n",
              " 0.8333333333333334,\n",
              " 0.25,\n",
              " 0.021739130434782605]"
            ]
          },
          "metadata": {
            "tags": []
          },
          "execution_count": 31
        }
      ]
    },
    {
      "cell_type": "code",
      "metadata": {
        "id": "-tgEKCD-6-e6"
      },
      "source": [
        "def input_norm():\n",
        "    for i in range(len(inputan_user)):\n",
        "        inputan_user[i] = (inputan_user[i] - (data_filtered[data_filtered.columns[i]]).min())/((data_filtered[data_filtered.columns[i]]).max() - (data_filtered[data_filtered.columns[i]]).min())\n",
        "\n",
        "    return inputan_user"
      ],
      "execution_count": null,
      "outputs": []
    },
    {
      "cell_type": "markdown",
      "metadata": {
        "id": "YECc6nbl6A7C"
      },
      "source": [
        "# **Proses Data**"
      ]
    },
    {
      "cell_type": "code",
      "metadata": {
        "id": "grMYa0FUtYZA"
      },
      "source": [
        "def euclidean_dist(data1, data2):\n",
        "    x1 = float(data1[0]) - float(data2[0])\n",
        "    x2 = float(data1[1]) - float(data2[1])\n",
        "    x3 = float(data1[2]) - float(data2[2])\n",
        "    x4 = float(data1[3]) - float(data2[3])\n",
        "    x5 = float(data1[4]) - float(data2[4])\n",
        "    return math.sqrt(x1**2 + x2**2 + x3**2 + x4**2 + x5**2)\n",
        "\n",
        "def manhattan_dist(data1, data2):\n",
        "    x1 = abs(float(data1[0]) - float(data2[0]))\n",
        "    x2 = abs(float(data1[1]) - float(data2[1]))\n",
        "    x3 = abs(float(data1[2]) - float(data2[2]))\n",
        "    x4 = abs(float(data1[3]) - float(data2[3]))\n",
        "    x5 = abs(float(data1[4]) - float(data2[4]))\n",
        "    return (x1 + x2 + x3 + x4 + x5)\n",
        "\n",
        "def minkowski_dist(data1, data2, p=2):\n",
        "    x1 = abs(float(data1[0]) - float(data2[0]))\n",
        "    x2 = abs(float(data1[1]) - float(data2[1]))\n",
        "    x3 = abs(float(data1[2]) - float(data2[2]))\n",
        "    x4 = abs(float(data1[3]) - float(data2[3]))\n",
        "    x5 = abs(float(data1[4]) - float(data2[4]))\n",
        "    return (x1**p + x2**p + x3**p + x4**p + x5**p) ** p\n",
        "\n",
        "def supremum_dist(data1, data2):\n",
        "    x1 = abs(float(data1[0]) - float(data2[0]))\n",
        "    x2 = abs(float(data1[1]) - float(data2[1]))\n",
        "    x3 = abs(float(data1[2]) - float(data2[2]))\n",
        "    x4 = abs(float(data1[3]) - float(data2[3]))\n",
        "    x5 = abs(float(data1[4]) - float(data2[4]))\n",
        "    return max(x1, x2, x3, x4, x5)\n"
      ],
      "execution_count": null,
      "outputs": []
    },
    {
      "cell_type": "code",
      "metadata": {
        "id": "n5-L_sNWuFtP"
      },
      "source": [
        "def find_neighbors_distance(data1, data2, k):\n",
        "    euclidean = [] \n",
        "    manhattan = []\n",
        "    minkowski = []\n",
        "    supremum = []\n",
        "    \n",
        "    for i in range(len(data1)):\n",
        "        euclidean.append([euclidean_dist(data1.iloc[i].tolist(), data2), data['Nama Mobil'][i], \n",
        "                          data['Harga (Ratus Juta)'][i]])\n",
        "        manhattan.append([manhattan_dist(data1.iloc[i].tolist(), data2), data['Nama Mobil'][i], \n",
        "                          data['Harga (Ratus Juta)'][i]])\n",
        "        minkowski.append([minkowski_dist(data1.iloc[i].tolist(), data2), data['Nama Mobil'][i], \n",
        "                          data['Harga (Ratus Juta)'][i]])\n",
        "        supremum.append([supremum_dist(data1.iloc[i].tolist(), data2), data['Nama Mobil'][i], \n",
        "                         data['Harga (Ratus Juta)'][i]])\n",
        "\n",
        "    euclidean = sorted(euclidean)[:k]\n",
        "    manhattan = sorted(manhattan)[:k]\n",
        "    minkowski = sorted(minkowski)[:k]\n",
        "    supremum = sorted(supremum)[:k]\n",
        "\n",
        "    return euclidean, manhattan, minkowski, supremum"
      ],
      "execution_count": null,
      "outputs": []
    },
    {
      "cell_type": "code",
      "metadata": {
        "id": "QAlWV4fVuHkd"
      },
      "source": [
        "def get_knn(data1, data2, k):\n",
        "    euclidean, manhattan, minkowski, supremum = find_neighbors_distance(data1, data2, k)\n",
        "    distances = [['Euclidean', euclidean], \n",
        "                 ['Manhattan', manhattan], \n",
        "                 ['Minkowski', minkowski], \n",
        "                 ['Supremum', supremum]]\n",
        "\n",
        "    return distances"
      ],
      "execution_count": null,
      "outputs": []
    },
    {
      "cell_type": "code",
      "metadata": {
        "id": "baiaYcG2ywX6"
      },
      "source": [
        ""
      ],
      "execution_count": null,
      "outputs": []
    },
    {
      "cell_type": "markdown",
      "metadata": {
        "id": "7iro6MVdkFbv"
      },
      "source": [
        "## **Main Program**\n",
        "memasukkan data baru "
      ]
    },
    {
      "cell_type": "code",
      "metadata": {
        "id": "gqDVp_QtbrLB",
        "colab": {
          "base_uri": "https://localhost:8080/"
        },
        "outputId": "995a6788-6878-4361-c4bf-a012ca098604"
      },
      "source": [
        "print('Inputan user yang menginginkan mobil dengan,')\n",
        "ukuran = int(input(\"Ukuran     :  \"))\n",
        "kenyamanan = int(input(\"Kenyamanan :  \"))\n",
        "irit = int(input(\"Irit       :  \"))\n",
        "kecepatan = int(input(\"Kecepatan  :  \"))\n",
        "harga = int(input(\"Harga      :  \"))\n",
        "\n",
        "inputan_user = [ukuran, kenyamanan, irit, kecepatan, harga]\n",
        "user = input_norm()\n",
        "\n",
        "distance = get_knn(data_norm, user, k = 3)\n",
        "\n",
        "print('maka peringkat masing-masing metode yang dijalankan untuk mobil yang cocok yaitu,')\n",
        "print()\n",
        "for method in distance:\n",
        "      print(f'\\n---------------------------------- Metode: {method[0]} ----------------------------------')\n",
        "      print()\n",
        "      nama_mobil = []\n",
        "      for i, total_distance in enumerate(method[1]):\n",
        "          print(f'peringkat ke - {i+1} : Mobil {total_distance[1]} dengan harga {int((total_distance[2])*100)} juta rupiah, Total Distance {round(total_distance[0], 3)}')\n",
        "          print()\n",
        "          nama_mobil.append(total_distance[1])\n",
        "      print()\n",
        "      nama_mobil = pd.DataFrame(nama_mobil)\n",
        "      nama_mobil.to_excel(f'{method[0]}.xls', index=False, header=False)"
      ],
      "execution_count": null,
      "outputs": [
        {
          "output_type": "stream",
          "text": [
            "Inputan user yang menginginkan mobil dengan,\n",
            "Ukuran     :  4\n",
            "Kenyamanan :  4\n",
            "Irit       :  9\n",
            "Kecepatan  :  6\n",
            "Harga      :  1\n",
            "maka peringkat masing-masing metode yang dijalankan untuk mobil yang cocok yaitu,\n",
            "\n",
            "\n",
            "---------------------------------- Metode: Euclidean ----------------------------------\n",
            "\n",
            "peringkat ke - 1 : Mobil Toyota Agya dengan harga 100 juta rupiah, Total Distance 0.0\n",
            "\n",
            "peringkat ke - 2 : Mobil Daihatsu Alya dengan harga 110 juta rupiah, Total Distance 0.143\n",
            "\n",
            "peringkat ke - 3 : Mobil Karimun dengan harga 120 juta rupiah, Total Distance 0.333\n",
            "\n",
            "\n",
            "\n",
            "---------------------------------- Metode: Manhattan ----------------------------------\n",
            "\n",
            "peringkat ke - 1 : Mobil Toyota Agya dengan harga 100 juta rupiah, Total Distance 0.0\n",
            "\n",
            "peringkat ke - 2 : Mobil Daihatsu Alya dengan harga 110 juta rupiah, Total Distance 0.154\n",
            "\n",
            "peringkat ke - 3 : Mobil Karimun dengan harga 120 juta rupiah, Total Distance 0.581\n",
            "\n",
            "\n",
            "\n",
            "---------------------------------- Metode: Minkowski ----------------------------------\n",
            "\n",
            "peringkat ke - 1 : Mobil Toyota Agya dengan harga 100 juta rupiah, Total Distance 0.0\n",
            "\n",
            "peringkat ke - 2 : Mobil Daihatsu Alya dengan harga 110 juta rupiah, Total Distance 0.0\n",
            "\n",
            "peringkat ke - 3 : Mobil Karimun dengan harga 120 juta rupiah, Total Distance 0.012\n",
            "\n",
            "\n",
            "\n",
            "---------------------------------- Metode: Supremum ----------------------------------\n",
            "\n",
            "peringkat ke - 1 : Mobil Toyota Agya dengan harga 100 juta rupiah, Total Distance 0.0\n",
            "\n",
            "peringkat ke - 2 : Mobil Daihatsu Alya dengan harga 110 juta rupiah, Total Distance 0.143\n",
            "\n",
            "peringkat ke - 3 : Mobil Karimun dengan harga 120 juta rupiah, Total Distance 0.25\n",
            "\n",
            "\n"
          ],
          "name": "stdout"
        }
      ]
    }
  ]
}